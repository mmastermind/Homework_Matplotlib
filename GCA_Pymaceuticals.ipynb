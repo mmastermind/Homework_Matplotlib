{
 "cells": [
  {
   "cell_type": "code",
   "execution_count": 1,
   "metadata": {},
   "outputs": [
    {
     "data": {
      "text/html": [
       "<div>\n",
       "<style scoped>\n",
       "    .dataframe tbody tr th:only-of-type {\n",
       "        vertical-align: middle;\n",
       "    }\n",
       "\n",
       "    .dataframe tbody tr th {\n",
       "        vertical-align: top;\n",
       "    }\n",
       "\n",
       "    .dataframe thead th {\n",
       "        text-align: right;\n",
       "    }\n",
       "</style>\n",
       "<table border=\"1\" class=\"dataframe\">\n",
       "  <thead>\n",
       "    <tr style=\"text-align: right;\">\n",
       "      <th></th>\n",
       "      <th>Mouse ID</th>\n",
       "      <th>Timepoint</th>\n",
       "      <th>Tumor Volume (mm3)</th>\n",
       "      <th>Metastatic Sites</th>\n",
       "      <th>Drug</th>\n",
       "    </tr>\n",
       "  </thead>\n",
       "  <tbody>\n",
       "    <tr>\n",
       "      <th>0</th>\n",
       "      <td>b128</td>\n",
       "      <td>0</td>\n",
       "      <td>45.000000</td>\n",
       "      <td>0</td>\n",
       "      <td>Capomulin</td>\n",
       "    </tr>\n",
       "    <tr>\n",
       "      <th>1</th>\n",
       "      <td>b128</td>\n",
       "      <td>5</td>\n",
       "      <td>45.651331</td>\n",
       "      <td>0</td>\n",
       "      <td>Capomulin</td>\n",
       "    </tr>\n",
       "    <tr>\n",
       "      <th>2</th>\n",
       "      <td>b128</td>\n",
       "      <td>10</td>\n",
       "      <td>43.270852</td>\n",
       "      <td>0</td>\n",
       "      <td>Capomulin</td>\n",
       "    </tr>\n",
       "    <tr>\n",
       "      <th>3</th>\n",
       "      <td>b128</td>\n",
       "      <td>15</td>\n",
       "      <td>43.784893</td>\n",
       "      <td>0</td>\n",
       "      <td>Capomulin</td>\n",
       "    </tr>\n",
       "    <tr>\n",
       "      <th>4</th>\n",
       "      <td>b128</td>\n",
       "      <td>20</td>\n",
       "      <td>42.731552</td>\n",
       "      <td>0</td>\n",
       "      <td>Capomulin</td>\n",
       "    </tr>\n",
       "    <tr>\n",
       "      <th>5</th>\n",
       "      <td>b128</td>\n",
       "      <td>25</td>\n",
       "      <td>43.262145</td>\n",
       "      <td>1</td>\n",
       "      <td>Capomulin</td>\n",
       "    </tr>\n",
       "    <tr>\n",
       "      <th>6</th>\n",
       "      <td>b128</td>\n",
       "      <td>30</td>\n",
       "      <td>40.605335</td>\n",
       "      <td>1</td>\n",
       "      <td>Capomulin</td>\n",
       "    </tr>\n",
       "    <tr>\n",
       "      <th>7</th>\n",
       "      <td>b128</td>\n",
       "      <td>35</td>\n",
       "      <td>37.967644</td>\n",
       "      <td>1</td>\n",
       "      <td>Capomulin</td>\n",
       "    </tr>\n",
       "    <tr>\n",
       "      <th>8</th>\n",
       "      <td>b128</td>\n",
       "      <td>40</td>\n",
       "      <td>38.379726</td>\n",
       "      <td>2</td>\n",
       "      <td>Capomulin</td>\n",
       "    </tr>\n",
       "    <tr>\n",
       "      <th>9</th>\n",
       "      <td>b128</td>\n",
       "      <td>45</td>\n",
       "      <td>38.982878</td>\n",
       "      <td>2</td>\n",
       "      <td>Capomulin</td>\n",
       "    </tr>\n",
       "    <tr>\n",
       "      <th>10</th>\n",
       "      <td>f932</td>\n",
       "      <td>0</td>\n",
       "      <td>45.000000</td>\n",
       "      <td>0</td>\n",
       "      <td>Ketapril</td>\n",
       "    </tr>\n",
       "    <tr>\n",
       "      <th>11</th>\n",
       "      <td>g107</td>\n",
       "      <td>0</td>\n",
       "      <td>45.000000</td>\n",
       "      <td>0</td>\n",
       "      <td>Ketapril</td>\n",
       "    </tr>\n",
       "    <tr>\n",
       "      <th>12</th>\n",
       "      <td>g107</td>\n",
       "      <td>5</td>\n",
       "      <td>48.791665</td>\n",
       "      <td>0</td>\n",
       "      <td>Ketapril</td>\n",
       "    </tr>\n",
       "    <tr>\n",
       "      <th>13</th>\n",
       "      <td>g107</td>\n",
       "      <td>10</td>\n",
       "      <td>53.435987</td>\n",
       "      <td>0</td>\n",
       "      <td>Ketapril</td>\n",
       "    </tr>\n",
       "    <tr>\n",
       "      <th>14</th>\n",
       "      <td>g107</td>\n",
       "      <td>15</td>\n",
       "      <td>58.135545</td>\n",
       "      <td>0</td>\n",
       "      <td>Ketapril</td>\n",
       "    </tr>\n",
       "    <tr>\n",
       "      <th>15</th>\n",
       "      <td>g107</td>\n",
       "      <td>20</td>\n",
       "      <td>62.706031</td>\n",
       "      <td>0</td>\n",
       "      <td>Ketapril</td>\n",
       "    </tr>\n",
       "  </tbody>\n",
       "</table>\n",
       "</div>"
      ],
      "text/plain": [
       "   Mouse ID  Timepoint  Tumor Volume (mm3)  Metastatic Sites       Drug\n",
       "0      b128          0           45.000000                 0  Capomulin\n",
       "1      b128          5           45.651331                 0  Capomulin\n",
       "2      b128         10           43.270852                 0  Capomulin\n",
       "3      b128         15           43.784893                 0  Capomulin\n",
       "4      b128         20           42.731552                 0  Capomulin\n",
       "5      b128         25           43.262145                 1  Capomulin\n",
       "6      b128         30           40.605335                 1  Capomulin\n",
       "7      b128         35           37.967644                 1  Capomulin\n",
       "8      b128         40           38.379726                 2  Capomulin\n",
       "9      b128         45           38.982878                 2  Capomulin\n",
       "10     f932          0           45.000000                 0   Ketapril\n",
       "11     g107          0           45.000000                 0   Ketapril\n",
       "12     g107          5           48.791665                 0   Ketapril\n",
       "13     g107         10           53.435987                 0   Ketapril\n",
       "14     g107         15           58.135545                 0   Ketapril\n",
       "15     g107         20           62.706031                 0   Ketapril"
      ]
     },
     "execution_count": 1,
     "metadata": {},
     "output_type": "execute_result"
    }
   ],
   "source": [
    "# Dependencies and Setup\n",
    "%matplotlib inline\n",
    "import os\n",
    "import matplotlib.pyplot as plt\n",
    "import pandas as pd\n",
    "import numpy as np\n",
    "from scipy import stats\n",
    "\n",
    "# Hide warning messages in notebook\n",
    "import warnings\n",
    "warnings.filterwarnings('ignore')\n",
    "\n",
    "# File to Load (Remember to Change These)\n",
    "#mouse_drug_data_to_load = \"resources/mouse_drug_data.csv\"\n",
    "#clinical_trial_data_to_load = \"resources/clinicaltrial_data.csv\"\n",
    "\n",
    "# Read the Mouse and Drug Data and the Clinical Trial Data\n",
    "mouse_dd = pd.read_csv(\"Resources/mouse_drug_data.csv\")\n",
    "clinical_td = pd.read_csv(\"Resources/clinicaltrial_data.csv\")\n",
    "\n",
    "# Combine the data into a single dataset\n",
    "data = pd.merge(clinical_td,mouse_dd,on=\"Mouse ID\")\n",
    "\n",
    "# Autolabel function for bar graphs\n",
    "def autolabel(rects, ax):\n",
    "    # Get y-axis height to calculate label position from.\n",
    "    (y_bottom, y_top) = ax.get_ylim()\n",
    "    y_height = y_top - y_bottom\n",
    "    for rect in rects:\n",
    "        height = rect.get_height()\n",
    "        # Fraction of axis height taken up by this rectangle\n",
    "        p_height = (height / y_height)\n",
    "        # If we can fit the label above the column, do that;\n",
    "        # otherwise, put it inside the column.\n",
    "        if p_height > 0.95: # arbitrary; 95% looked good to me.\n",
    "            label_position = height - (y_height * 0.05)\n",
    "        else:\n",
    "            label_position = height + (y_height * 0.01)\n",
    "        ax.text(rect.get_x() + rect.get_width()/2., label_position,\n",
    "                '%d' % int(height),\n",
    "                ha='center', va='bottom')\n",
    "# Display the data table for preview\n",
    "data.describe() \n",
    "data.count()#data looks complete, no initially detected issues\n",
    "data.head()\n",
    "data.dtypes # ok for next steps but strings converted as such to avoid posterior issues\n",
    "data['Mouse ID'].astype(str)\n",
    "data['Drug'].astype(str)\n",
    "data.head(16)"
   ]
  },
  {
   "cell_type": "markdown",
   "metadata": {},
   "source": [
    "## Tumor Response to Treatment"
   ]
  },
  {
   "cell_type": "code",
   "execution_count": 2,
   "metadata": {},
   "outputs": [
    {
     "data": {
      "text/html": [
       "<style  type=\"text/css\" >\n",
       "</style><table id=\"T_c8a36f0a_a001_11e9_b3af_185680a4daf7\" ><thead>    <tr>        <th class=\"blank level0\" ></th>        <th class=\"col_heading level0 col0\" >Timepoint</th>        <th class=\"col_heading level0 col1\" >Tumor Volume (mm3)</th>        <th class=\"col_heading level0 col2\" >Metastatic Sites</th>    </tr>    <tr>        <th class=\"index_name level0\" >Drug</th>        <th class=\"blank\" ></th>        <th class=\"blank\" ></th>        <th class=\"blank\" ></th>    </tr></thead><tbody>\n",
       "                <tr>\n",
       "                        <th id=\"T_c8a36f0a_a001_11e9_b3af_185680a4daf7level0_row0\" class=\"row_heading level0 row0\" >Capomulin</th>\n",
       "                        <td id=\"T_c8a36f0a_a001_11e9_b3af_185680a4daf7row0_col0\" class=\"data row0 col0\" >21.57</td>\n",
       "                        <td id=\"T_c8a36f0a_a001_11e9_b3af_185680a4daf7row0_col1\" class=\"data row0 col1\" >40.68</td>\n",
       "                        <td id=\"T_c8a36f0a_a001_11e9_b3af_185680a4daf7row0_col2\" class=\"data row0 col2\" >0.71</td>\n",
       "            </tr>\n",
       "            <tr>\n",
       "                        <th id=\"T_c8a36f0a_a001_11e9_b3af_185680a4daf7level0_row1\" class=\"row_heading level0 row1\" >Ceftamin</th>\n",
       "                        <td id=\"T_c8a36f0a_a001_11e9_b3af_185680a4daf7row1_col0\" class=\"data row1 col0\" >19.75</td>\n",
       "                        <td id=\"T_c8a36f0a_a001_11e9_b3af_185680a4daf7row1_col1\" class=\"data row1 col1\" >52.59</td>\n",
       "                        <td id=\"T_c8a36f0a_a001_11e9_b3af_185680a4daf7row1_col2\" class=\"data row1 col2\" >1.18</td>\n",
       "            </tr>\n",
       "            <tr>\n",
       "                        <th id=\"T_c8a36f0a_a001_11e9_b3af_185680a4daf7level0_row2\" class=\"row_heading level0 row2\" >Infubinol</th>\n",
       "                        <td id=\"T_c8a36f0a_a001_11e9_b3af_185680a4daf7row2_col0\" class=\"data row2 col0\" >18.17</td>\n",
       "                        <td id=\"T_c8a36f0a_a001_11e9_b3af_185680a4daf7row2_col1\" class=\"data row2 col1\" >52.96</td>\n",
       "                        <td id=\"T_c8a36f0a_a001_11e9_b3af_185680a4daf7row2_col2\" class=\"data row2 col2\" >0.96</td>\n",
       "            </tr>\n",
       "            <tr>\n",
       "                        <th id=\"T_c8a36f0a_a001_11e9_b3af_185680a4daf7level0_row3\" class=\"row_heading level0 row3\" >Ketapril</th>\n",
       "                        <td id=\"T_c8a36f0a_a001_11e9_b3af_185680a4daf7row3_col0\" class=\"data row3 col0\" >19.71</td>\n",
       "                        <td id=\"T_c8a36f0a_a001_11e9_b3af_185680a4daf7row3_col1\" class=\"data row3 col1\" >55.24</td>\n",
       "                        <td id=\"T_c8a36f0a_a001_11e9_b3af_185680a4daf7row3_col2\" class=\"data row3 col2\" >1.30</td>\n",
       "            </tr>\n",
       "            <tr>\n",
       "                        <th id=\"T_c8a36f0a_a001_11e9_b3af_185680a4daf7level0_row4\" class=\"row_heading level0 row4\" >Naftisol</th>\n",
       "                        <td id=\"T_c8a36f0a_a001_11e9_b3af_185680a4daf7row4_col0\" class=\"data row4 col0\" >19.62</td>\n",
       "                        <td id=\"T_c8a36f0a_a001_11e9_b3af_185680a4daf7row4_col1\" class=\"data row4 col1\" >54.33</td>\n",
       "                        <td id=\"T_c8a36f0a_a001_11e9_b3af_185680a4daf7row4_col2\" class=\"data row4 col2\" >1.18</td>\n",
       "            </tr>\n",
       "            <tr>\n",
       "                        <th id=\"T_c8a36f0a_a001_11e9_b3af_185680a4daf7level0_row5\" class=\"row_heading level0 row5\" >Placebo</th>\n",
       "                        <td id=\"T_c8a36f0a_a001_11e9_b3af_185680a4daf7row5_col0\" class=\"data row5 col0\" >18.67</td>\n",
       "                        <td id=\"T_c8a36f0a_a001_11e9_b3af_185680a4daf7row5_col1\" class=\"data row5 col1\" >54.03</td>\n",
       "                        <td id=\"T_c8a36f0a_a001_11e9_b3af_185680a4daf7row5_col2\" class=\"data row5 col2\" >1.44</td>\n",
       "            </tr>\n",
       "            <tr>\n",
       "                        <th id=\"T_c8a36f0a_a001_11e9_b3af_185680a4daf7level0_row6\" class=\"row_heading level0 row6\" >Propriva</th>\n",
       "                        <td id=\"T_c8a36f0a_a001_11e9_b3af_185680a4daf7row6_col0\" class=\"data row6 col0\" >16.86</td>\n",
       "                        <td id=\"T_c8a36f0a_a001_11e9_b3af_185680a4daf7row6_col1\" class=\"data row6 col1\" >52.32</td>\n",
       "                        <td id=\"T_c8a36f0a_a001_11e9_b3af_185680a4daf7row6_col2\" class=\"data row6 col2\" >0.98</td>\n",
       "            </tr>\n",
       "            <tr>\n",
       "                        <th id=\"T_c8a36f0a_a001_11e9_b3af_185680a4daf7level0_row7\" class=\"row_heading level0 row7\" >Ramicane</th>\n",
       "                        <td id=\"T_c8a36f0a_a001_11e9_b3af_185680a4daf7row7_col0\" class=\"data row7 col0\" >21.43</td>\n",
       "                        <td id=\"T_c8a36f0a_a001_11e9_b3af_185680a4daf7row7_col1\" class=\"data row7 col1\" >40.22</td>\n",
       "                        <td id=\"T_c8a36f0a_a001_11e9_b3af_185680a4daf7row7_col2\" class=\"data row7 col2\" >0.55</td>\n",
       "            </tr>\n",
       "            <tr>\n",
       "                        <th id=\"T_c8a36f0a_a001_11e9_b3af_185680a4daf7level0_row8\" class=\"row_heading level0 row8\" >Stelasyn</th>\n",
       "                        <td id=\"T_c8a36f0a_a001_11e9_b3af_185680a4daf7row8_col0\" class=\"data row8 col0\" >18.92</td>\n",
       "                        <td id=\"T_c8a36f0a_a001_11e9_b3af_185680a4daf7row8_col1\" class=\"data row8 col1\" >54.11</td>\n",
       "                        <td id=\"T_c8a36f0a_a001_11e9_b3af_185680a4daf7row8_col2\" class=\"data row8 col2\" >0.85</td>\n",
       "            </tr>\n",
       "            <tr>\n",
       "                        <th id=\"T_c8a36f0a_a001_11e9_b3af_185680a4daf7level0_row9\" class=\"row_heading level0 row9\" >Zoniferol</th>\n",
       "                        <td id=\"T_c8a36f0a_a001_11e9_b3af_185680a4daf7row9_col0\" class=\"data row9 col0\" >19.37</td>\n",
       "                        <td id=\"T_c8a36f0a_a001_11e9_b3af_185680a4daf7row9_col1\" class=\"data row9 col1\" >53.24</td>\n",
       "                        <td id=\"T_c8a36f0a_a001_11e9_b3af_185680a4daf7row9_col2\" class=\"data row9 col2\" >1.23</td>\n",
       "            </tr>\n",
       "    </tbody></table>"
      ],
      "text/plain": [
       "<pandas.io.formats.style.Styler at 0x1404d7cc6a0>"
      ]
     },
     "execution_count": 2,
     "metadata": {},
     "output_type": "execute_result"
    }
   ],
   "source": [
    "# Store the Mean Tumor Volume Data Grouped by Drug and Timepoint, and # Convert to DataFrame\n",
    "tum_vol_drug = data.groupby(\"Drug\")\n",
    "tum_vol_drug_mean = data.groupby(\"Drug\").mean()\n",
    "tum_vol_tpoint = data.groupby(\"Timepoint\")\n",
    "tum_vol_tpoint_mean = data.groupby(\"Timepoint\").mean()\n",
    "# Preview DataFrame with decimals fix for easier reading\n",
    "tum_vol_drug_mean.style.format({'Timepoint': \"{:.2f}\",'Tumor Volume (mm3)': \"{:.2f}\",'Metastatic Sites': \"{:.2f}\"})"
   ]
  },
  {
   "cell_type": "code",
   "execution_count": 3,
   "metadata": {},
   "outputs": [
    {
     "data": {
      "text/html": [
       "<div>\n",
       "<style scoped>\n",
       "    .dataframe tbody tr th:only-of-type {\n",
       "        vertical-align: middle;\n",
       "    }\n",
       "\n",
       "    .dataframe tbody tr th {\n",
       "        vertical-align: top;\n",
       "    }\n",
       "\n",
       "    .dataframe thead th {\n",
       "        text-align: right;\n",
       "    }\n",
       "</style>\n",
       "<table border=\"1\" class=\"dataframe\">\n",
       "  <thead>\n",
       "    <tr style=\"text-align: right;\">\n",
       "      <th></th>\n",
       "      <th>Timepoint</th>\n",
       "      <th>Drug</th>\n",
       "      <th>Tumor Volume (mm3)</th>\n",
       "    </tr>\n",
       "  </thead>\n",
       "  <tbody>\n",
       "    <tr>\n",
       "      <th>0</th>\n",
       "      <td>0</td>\n",
       "      <td>Capomulin</td>\n",
       "      <td>45.0</td>\n",
       "    </tr>\n",
       "    <tr>\n",
       "      <th>1</th>\n",
       "      <td>0</td>\n",
       "      <td>Ceftamin</td>\n",
       "      <td>45.0</td>\n",
       "    </tr>\n",
       "    <tr>\n",
       "      <th>2</th>\n",
       "      <td>0</td>\n",
       "      <td>Infubinol</td>\n",
       "      <td>45.0</td>\n",
       "    </tr>\n",
       "    <tr>\n",
       "      <th>3</th>\n",
       "      <td>0</td>\n",
       "      <td>Ketapril</td>\n",
       "      <td>45.0</td>\n",
       "    </tr>\n",
       "    <tr>\n",
       "      <th>4</th>\n",
       "      <td>0</td>\n",
       "      <td>Naftisol</td>\n",
       "      <td>45.0</td>\n",
       "    </tr>\n",
       "  </tbody>\n",
       "</table>\n",
       "</div>"
      ],
      "text/plain": [
       "   Timepoint       Drug  Tumor Volume (mm3)\n",
       "0          0  Capomulin                45.0\n",
       "1          0   Ceftamin                45.0\n",
       "2          0  Infubinol                45.0\n",
       "3          0   Ketapril                45.0\n",
       "4          0   Naftisol                45.0"
      ]
     },
     "execution_count": 3,
     "metadata": {},
     "output_type": "execute_result"
    }
   ],
   "source": [
    "#Some Tumor data slicing for analysis and other variables for later easier use\n",
    "Drugs = data[\"Drug\"].unique()\n",
    "Drugs_num = len(Drugs)\n",
    "datoss=data.groupby([\"Timepoint\", \"Drug\"])[\"Tumor Volume (mm3)\"].mean()\n",
    "datoss=datoss.reset_index()\n",
    "datoss.head()"
   ]
  },
  {
   "cell_type": "code",
   "execution_count": 4,
   "metadata": {},
   "outputs": [
    {
     "data": {
      "image/png": "[encoded data removed]",
      "text/plain": [
       "<Figure size 432x288 with 1 Axes>"
      ]
     },
     "metadata": {
      "needs_background": "light"
     },
     "output_type": "display_data"
    },
    {
     "data": {
      "text/plain": [
       "<Figure size 432x288 with 0 Axes>"
      ]
     },
     "metadata": {},
     "output_type": "display_data"
    }
   ],
   "source": [
    "#Tumor volume change with for-loop by slicing rows with \"i\" gotten from listed drugs and grouping/mean at the same time \n",
    "drugs_tum_size=[]\n",
    "x_axis = tum_vol_tpoint[\"Timepoint\"].unique()\n",
    "for i in Drugs:\n",
    "    w=data.loc[data[\"Drug\"]==i,:].groupby(\"Timepoint\").mean()[\"Tumor Volume (mm3)\"]\n",
    "    plt.scatter(x_axis,w, label = i)\n",
    "    drugs_tum_size.append(w)\n",
    "#Plot data format for easier reading, axes labeling, title, legend location, etc\n",
    "plt.xlim(0, max(x_axis+15))\n",
    "plt.ylim(30,max(w+10)) #why min is not getting the right value??\n",
    "plt.title(\"Tumor Volume Change Over Time\")\n",
    "plt.xlabel(\"Timepoint, Day\")\n",
    "plt.ylabel(\"Volume (mm3)\")\n",
    "plt.legend(loc=\"best\")\n",
    "#plt.legend(position=\"right center\")\n",
    "plt.show()\n",
    "plt.savefig(\"Images/tum_vol_over_time.png\")"
   ]
  },
  {
   "cell_type": "code",
   "execution_count": 5,
   "metadata": {},
   "outputs": [
    {
     "name": "stdout",
     "output_type": "stream",
     "text": [
      "Observable Trend 1:Regarding Tumor Volume change through treatment: only two drugs (Ramicane and Capomulin) result in reduction\n",
      "The rest of the drugs show no effect but, on the contrary, tumor volume increase\n"
     ]
    }
   ],
   "source": [
    "print(\"Observable Trend 1:Regarding Tumor Volume change through treatment: only two drugs (Ramicane and Capomulin) result in reduction\")\n",
    "print(\"The rest of the drugs show no effect but, on the contrary, tumor volume increase\")"
   ]
  },
  {
   "cell_type": "code",
   "execution_count": 6,
   "metadata": {},
   "outputs": [
    {
     "data": {
      "image/png": "[encoded data removed]",
      "text/plain": [
       "<Figure size 432x288 with 1 Axes>"
      ]
     },
     "metadata": {
      "needs_background": "light"
     },
     "output_type": "display_data"
    }
   ],
   "source": [
    "#Standard errors for Tumor Volume means computing and plotting\n",
    "standard_errors = data.groupby(\"Drug\").agg(stats.sem)[\"Tumor Volume (mm3)\"]\n",
    "# Generate the Plot (with Error Bars)\n",
    "fig, ax = plt.subplots()\n",
    "ax.errorbar(Drugs, tum_vol_drug_mean[\"Tumor Volume (mm3)\"], standard_errors, fmt=\"o\")\n",
    "#Plot data format for easier reading, axes labeling, title, legend location, etc\n",
    "ax.set_ylim(40, 56,1)\n",
    "ax.set_xlabel(\"Drugs\")\n",
    "plt.xticks(rotation=45)\n",
    "ax.set_ylabel(\"Tumor Volume (mm3)\")\n",
    "ax.set_title(\"Drugs' Tumor Volume STD Errors\")\n",
    "plt.autoscale()\n",
    "plt.grid()\n",
    "# Save the Figure\n",
    "plt.savefig(\"Images/drugs_tum_vol_stde.png\")"
   ]
  },
  {
   "cell_type": "code",
   "execution_count": 7,
   "metadata": {},
   "outputs": [
    {
     "data": {
      "text/plain": [
       "array(['Capomulin', 'Ketapril', 'Naftisol', 'Infubinol', 'Stelasyn',\n",
       "       'Ramicane', 'Propriva', 'Zoniferol', 'Placebo', 'Ceftamin'],\n",
       "      dtype=object)"
      ]
     },
     "execution_count": 7,
     "metadata": {},
     "output_type": "execute_result"
    }
   ],
   "source": [
    "Drugsb=Drugs\n",
    "Drugsb"
   ]
  },
  {
   "cell_type": "code",
   "execution_count": 8,
   "metadata": {},
   "outputs": [],
   "source": [
    "# Show the Figure\n",
    "plt.show()"
   ]
  },
  {
   "cell_type": "markdown",
   "metadata": {},
   "source": [
    "## Metastatic Response to Treatment"
   ]
  },
  {
   "cell_type": "code",
   "execution_count": 9,
   "metadata": {},
   "outputs": [
    {
     "data": {
      "text/plain": [
       "Timepoint  Drug     \n",
       "0          Capomulin    0.000000\n",
       "           Ceftamin     0.000000\n",
       "           Infubinol    0.000000\n",
       "           Ketapril     0.000000\n",
       "           Naftisol     0.000000\n",
       "           Placebo      0.000000\n",
       "           Propriva     0.000000\n",
       "           Ramicane     0.000000\n",
       "           Stelasyn     0.000000\n",
       "           Zoniferol    0.000000\n",
       "5          Capomulin    0.160000\n",
       "           Ceftamin     0.380952\n",
       "Name: Metastatic Sites, dtype: float64"
      ]
     },
     "execution_count": 9,
     "metadata": {},
     "output_type": "execute_result"
    }
   ],
   "source": [
    "# Store the Mean Met. Site Data Grouped by Drug and Timepoint and converted to Dataframe\n",
    "metass=data.groupby([\"Timepoint\", \"Drug\"])[\"Metastatic Sites\"].mean()\n",
    "# Preview DataFrame\n",
    "metass.head(12)"
   ]
  },
  {
   "cell_type": "code",
   "execution_count": 10,
   "metadata": {},
   "outputs": [
    {
     "data": {
      "image/png": "[encoded data removed]",
      "text/plain": [
       "<Figure size 432x288 with 1 Axes>"
      ]
     },
     "metadata": {
      "needs_background": "light"
     },
     "output_type": "display_data"
    }
   ],
   "source": [
    "#Get dataframe length to utilize in loop to get actual series/plot of Metastatic Sites\n",
    "s=metass.index.values.tolist()\n",
    "#Metastatic sites with for-loop by slicing rows from original data with \"i\" gotten from listed drugs and grouping/mean at the same time \n",
    "drugs_meta=[]\n",
    "x_axis = datoss[\"Timepoint\"].unique()\n",
    "for i in Drugs:\n",
    "    v=data.loc[data[\"Drug\"]==i,:].groupby(\"Timepoint\").mean()[\"Metastatic Sites\"]\n",
    "    plt.scatter(x_axis,v, label = i)\n",
    "    drugs_meta.append(v)\n",
    "#Plot data format for easier reading, axes labeling, title, legend location, etc\n",
    "plt.xlim(0, max(x_axis+5))\n",
    "plt.ylim(0,max(v+1))\n",
    "plt.title(\"Metastic Sites Over Time\")\n",
    "plt.xlabel(\"Timepoint\")\n",
    "plt.ylabel(\"Mean Sites\")\n",
    "plt.legend(loc=\"best\")\n",
    "plt.autoscale()\n",
    "plt.grid()\n",
    "plt.savefig(\"Images/metas_over_time.png\")"
   ]
  },
  {
   "cell_type": "code",
   "execution_count": 11,
   "metadata": {},
   "outputs": [
    {
     "name": "stdout",
     "output_type": "stream",
     "text": [
      "Observable Trend 2: Regarding metastatic sites, all of the drugs present increase in the mean # of metastatic sites\n",
      "Ramicane, Stelasyn and Capomulin observe inferior increase in Metastatic Sites vs the rest of the Drugs\n"
     ]
    }
   ],
   "source": [
    "print(\"Observable Trend 2: Regarding metastatic sites, all of the drugs present increase in the mean # of metastatic sites\")\n",
    "print(\"Ramicane, Stelasyn and Capomulin observe inferior increase in Metastatic Sites vs the rest of the Drugs\")"
   ]
  },
  {
   "cell_type": "code",
   "execution_count": 12,
   "metadata": {},
   "outputs": [
    {
     "data": {
      "text/plain": [
       "Drug\n",
       "Capomulin    0.055981\n",
       "Ceftamin     0.088766\n",
       "Infubinol    0.076985\n",
       "Ketapril     0.101659\n",
       "Naftisol     0.089200\n",
       "Name: Metastatic Sites, dtype: float64"
      ]
     },
     "execution_count": 12,
     "metadata": {},
     "output_type": "execute_result"
    }
   ],
   "source": [
    "# Store the Standard Error associated with Met. Sites Grouped by Drug and Timepoint # Convert to DataFrame\n",
    "standard_errorsM = data.groupby(\"Drug\").agg(stats.sem)[\"Metastatic Sites\"]\n",
    "# Preview DataFrame\n",
    "standard_errorsM.head()"
   ]
  },
  {
   "cell_type": "code",
   "execution_count": 13,
   "metadata": {},
   "outputs": [
    {
     "data": {
      "image/png": "[encoded data removed]",
      "text/plain": [
       "<Figure size 432x288 with 1 Axes>"
      ]
     },
     "metadata": {
      "needs_background": "light"
     },
     "output_type": "display_data"
    }
   ],
   "source": [
    "# Generate the Plot (with Error Bars)\n",
    "fig, ax = plt.subplots()\n",
    "ax.errorbar(Drugs, tum_vol_drug_mean[\"Metastatic Sites\"], standard_errorsM, fmt=\"+\", color = \"g\")\n",
    "#Plot data format for easier reading, axes labeling, title, legend location, etc\n",
    "ax.set_title(\"Drugs' Metastatic Sites STD Errors\")\n",
    "ax.set_xlabel(\"Drugs\")\n",
    "ax.set_ylabel(\"Metastatic Sites Mean\")\n",
    "plt.xticks(rotation=45)\n",
    "plt.grid()\n",
    "# Save the Figure\n",
    "plt.savefig(\"drugs_metastatic_stde.png\")"
   ]
  },
  {
   "cell_type": "markdown",
   "metadata": {},
   "source": [
    "## Survival Rates"
   ]
  },
  {
   "cell_type": "code",
   "execution_count": 14,
   "metadata": {},
   "outputs": [
    {
     "data": {
      "text/html": [
       "<div>\n",
       "<style scoped>\n",
       "    .dataframe tbody tr th:only-of-type {\n",
       "        vertical-align: middle;\n",
       "    }\n",
       "\n",
       "    .dataframe tbody tr th {\n",
       "        vertical-align: top;\n",
       "    }\n",
       "\n",
       "    .dataframe thead th {\n",
       "        text-align: right;\n",
       "    }\n",
       "</style>\n",
       "<table border=\"1\" class=\"dataframe\">\n",
       "  <thead>\n",
       "    <tr style=\"text-align: right;\">\n",
       "      <th></th>\n",
       "      <th>Mouse ID</th>\n",
       "      <th>Tumor Volume (mm3)</th>\n",
       "      <th>Metastatic Sites</th>\n",
       "      <th>Drug</th>\n",
       "    </tr>\n",
       "    <tr>\n",
       "      <th>Timepoint</th>\n",
       "      <th></th>\n",
       "      <th></th>\n",
       "      <th></th>\n",
       "      <th></th>\n",
       "    </tr>\n",
       "  </thead>\n",
       "  <tbody>\n",
       "    <tr>\n",
       "      <th>0</th>\n",
       "      <td>252</td>\n",
       "      <td>252</td>\n",
       "      <td>252</td>\n",
       "      <td>252</td>\n",
       "    </tr>\n",
       "    <tr>\n",
       "      <th>5</th>\n",
       "      <td>240</td>\n",
       "      <td>240</td>\n",
       "      <td>240</td>\n",
       "      <td>240</td>\n",
       "    </tr>\n",
       "    <tr>\n",
       "      <th>10</th>\n",
       "      <td>225</td>\n",
       "      <td>225</td>\n",
       "      <td>225</td>\n",
       "      <td>225</td>\n",
       "    </tr>\n",
       "    <tr>\n",
       "      <th>15</th>\n",
       "      <td>209</td>\n",
       "      <td>209</td>\n",
       "      <td>209</td>\n",
       "      <td>209</td>\n",
       "    </tr>\n",
       "    <tr>\n",
       "      <th>20</th>\n",
       "      <td>197</td>\n",
       "      <td>197</td>\n",
       "      <td>197</td>\n",
       "      <td>197</td>\n",
       "    </tr>\n",
       "    <tr>\n",
       "      <th>25</th>\n",
       "      <td>184</td>\n",
       "      <td>184</td>\n",
       "      <td>184</td>\n",
       "      <td>184</td>\n",
       "    </tr>\n",
       "    <tr>\n",
       "      <th>30</th>\n",
       "      <td>172</td>\n",
       "      <td>172</td>\n",
       "      <td>172</td>\n",
       "      <td>172</td>\n",
       "    </tr>\n",
       "    <tr>\n",
       "      <th>35</th>\n",
       "      <td>155</td>\n",
       "      <td>155</td>\n",
       "      <td>155</td>\n",
       "      <td>155</td>\n",
       "    </tr>\n",
       "    <tr>\n",
       "      <th>40</th>\n",
       "      <td>142</td>\n",
       "      <td>142</td>\n",
       "      <td>142</td>\n",
       "      <td>142</td>\n",
       "    </tr>\n",
       "    <tr>\n",
       "      <th>45</th>\n",
       "      <td>130</td>\n",
       "      <td>130</td>\n",
       "      <td>130</td>\n",
       "      <td>130</td>\n",
       "    </tr>\n",
       "  </tbody>\n",
       "</table>\n",
       "</div>"
      ],
      "text/plain": [
       "           Mouse ID  Tumor Volume (mm3)  Metastatic Sites  Drug\n",
       "Timepoint                                                      \n",
       "0               252                 252               252   252\n",
       "5               240                 240               240   240\n",
       "10              225                 225               225   225\n",
       "15              209                 209               209   209\n",
       "20              197                 197               197   197\n",
       "25              184                 184               184   184\n",
       "30              172                 172               172   172\n",
       "35              155                 155               155   155\n",
       "40              142                 142               142   142\n",
       "45              130                 130               130   130"
      ]
     },
     "execution_count": 14,
     "metadata": {},
     "output_type": "execute_result"
    }
   ],
   "source": [
    "# Store the Count of Mice Grouped by Drug and Timepoint (W can pass any metric \"count\" as mice that survived)\n",
    "tum_vol_tpoint.count()\n",
    "# Convert to DataFrame\n",
    "tum_vol_tpoint_c = tum_vol_tpoint[\"Mouse ID\"].count()\n",
    "# Preview DataFrame\n",
    "tum_vol_tpoint.count()"
   ]
  },
  {
   "cell_type": "code",
   "execution_count": 15,
   "metadata": {},
   "outputs": [
    {
     "data": {
      "text/plain": [
       "Timepoint\n",
       "0     252\n",
       "5     240\n",
       "10    225\n",
       "15    209\n",
       "20    197\n",
       "25    184\n",
       "30    172\n",
       "35    155\n",
       "40    142\n",
       "45    130\n",
       "Name: Mouse ID, dtype: int64"
      ]
     },
     "execution_count": 15,
     "metadata": {},
     "output_type": "execute_result"
    }
   ],
   "source": [
    "# Preview the Data Frame\n",
    "w=len(tum_vol_tpoint_c)\n",
    "tum_vol_tpoint_c"
   ]
  },
  {
   "cell_type": "code",
   "execution_count": 16,
   "metadata": {
    "scrolled": true
   },
   "outputs": [],
   "source": [
    "#Survival rate is calculated with a for loop that goes through the count.dF and computes with the current and prior data value\n",
    "#to get an index and converting to percent value\n",
    "survival_rate=[]\n",
    "surv=0\n",
    "zz=len(tum_vol_tpoint_c)\n",
    "for i in range(zz):\n",
    "    if i == 0:\n",
    "        surv= tum_vol_tpoint_c[i*5]\n",
    "        survival_rate.append(1.0)\n",
    "    else:\n",
    "        surv=tum_vol_tpoint_c[i*5]/tum_vol_tpoint_c[0]\n",
    "        #print(i)\n",
    "        survival_rate.append(surv)\n",
    "survival_rate_c=[(x*100) for x in survival_rate]"
   ]
  },
  {
   "cell_type": "code",
   "execution_count": 17,
   "metadata": {},
   "outputs": [
    {
     "data": {
      "image/png": "[encoded data removed]",
      "text/plain": [
       "<Figure size 720x504 with 1 Axes>"
      ]
     },
     "metadata": {
      "needs_background": "light"
     },
     "output_type": "display_data"
    }
   ],
   "source": [
    "# Generate the Plot (Accounting for percentages)\n",
    "fig, ax = plt.subplots()\n",
    "x_axis = tum_vol_tpoint[\"Timepoint\"].unique()\n",
    "rects = ax.bar(x_axis, survival_rate_c, width=4.0, color='b', yerr=standard_errors)\n",
    "ax.get_ylim()\n",
    "#Plot data format for easier reading, axes labeling, title, legend location, etc\n",
    "plt.title(\"Overall Mice Survival Rate through Time\")\n",
    "plt.xlabel(\"Timepoint\")\n",
    "plt.ylabel(\"Survival Rate%\")\n",
    "#autolabel function used to print labels in the plot\n",
    "autolabel(rects, ax)\n",
    "# Save the Figure\n",
    "plt.savefig(\"Images/Survival_rate.png\")\n",
    "fig.set_figheight(7)\n",
    "fig.set_figwidth(10)\n",
    "# Show the Figure\n",
    "plt.show()"
   ]
  },
  {
   "cell_type": "markdown",
   "metadata": {},
   "source": [
    "## Summary Bar Graph"
   ]
  },
  {
   "cell_type": "code",
   "execution_count": 22,
   "metadata": {},
   "outputs": [
    {
     "data": {
      "image/png": "[encoded data removed]",
      "text/plain": [
       "<Figure size 720x504 with 1 Axes>"
      ]
     },
     "metadata": {
      "needs_background": "light"
     },
     "output_type": "display_data"
    }
   ],
   "source": [
    "drug_pass=[]\n",
    "drug_fail=[]\n",
    "positive=[]\n",
    "negative=[]\n",
    "for i in Drugs:\n",
    "    drug_series=data.loc[data[\"Drug\"]==i,:].groupby(\"Timepoint\").mean()[\"Tumor Volume (mm3)\"]\n",
    "    drug_temp=((drug_series[45]/drug_series[0])-1)*100\n",
    "# Splicing the data between passing and failing drugs to list created\n",
    "    if drug_temp < 1:\n",
    "        drug_pass.append(drug_temp)\n",
    "        positive.append(i)\n",
    "    else:\n",
    "        drug_fail.append(drug_temp)\n",
    "        negative.append(i)\n",
    "#Plotting the sliced data for pass/fail drugs\n",
    "fig, ax = plt.subplots()\n",
    "rects_pass = ax.bar(positive, drug_pass, color='g')\n",
    "rects_fail = ax.bar(negative, drug_fail, color='r')\n",
    "ax.get_ylim()\n",
    "#Plot data format for easier reading, axes labeling, title, legend location, etc\n",
    "plt.xticks(rotation=45)\n",
    "#plt.ylim(min(drugs_size_chg)-5,max(drugs_size_chg)+5) #why min is not getting the right value??\n",
    "plt.title(\"Tumor Volume %change through 45 day treatment\")\n",
    "plt.xlabel(\"Drug\")\n",
    "plt.ylabel(\"Volume Delta (%change)\")\n",
    "#autolabel function used to print labels in the plot\n",
    "autolabel(rects_pass,ax)\n",
    "autolabel(rects_fail,ax)\n",
    "fig.set_figheight(7)\n",
    "fig.set_figwidth(10)\n",
    "plt.grid()\n",
    "plt.savefig(\"Images/pass_fail_drugs.png\")\n",
    "# Show the Figure\n",
    "plt.show()"
   ]
  },
  {
   "cell_type": "code",
   "execution_count": 21,
   "metadata": {},
   "outputs": [
    {
     "name": "stdout",
     "output_type": "stream",
     "text": [
      "Observable trend 3: The % volume change in tumors in the two drug groups as pass-tumor reduction/fail-tumor increase are similar in their respective proportion\n"
     ]
    }
   ],
   "source": [
    "print(\"Observable trend 3: The % volume change in tumors in the two drug groups as pass-tumor reduction/fail-tumor increase are similar in their respective proportion\")"
   ]
  },
  {
   "cell_type": "code",
   "execution_count": null,
   "metadata": {},
   "outputs": [],
   "source": []
  },
  {
   "cell_type": "code",
   "execution_count": null,
   "metadata": {},
   "outputs": [],
   "source": []
  }
 ],
 "metadata": {
  "anaconda-cloud": {},
  "kernelspec": {
   "display_name": "Python 3",
   "language": "python",
   "name": "python3"
  },
  "language_info": {
   "codemirror_mode": {
    "name": "ipython",
    "version": 3
   },
   "file_extension": ".py",
   "mimetype": "text/x-python",
   "name": "python",
   "nbconvert_exporter": "python",
   "pygments_lexer": "ipython3",
   "version": "3.7.3"
  }
 },
 "nbformat": 4,
 "nbformat_minor": 1
}
